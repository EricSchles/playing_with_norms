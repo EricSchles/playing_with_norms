{
 "cells": [
  {
   "cell_type": "code",
   "execution_count": 3,
   "id": "9435267b",
   "metadata": {},
   "outputs": [
    {
     "data": {
      "text/plain": [
       "(1000, 1)"
      ]
     },
     "execution_count": 3,
     "metadata": {},
     "output_type": "execute_result"
    }
   ],
   "source": [
    "from another_lin_reg import LpRegression\n",
    "import pandas as pd\n",
    "import numpy as np\n",
    "\n",
    "# default is L2 norm\n",
    "l2_reg = LpRegression(norm_coef=4)\n",
    "df = pd.DataFrame()\n",
    "df[0] = np.random.normal(50, 12, size=1000)\n",
    "df[1] = np.random.normal(60, 14, size=1000)\n",
    "df[2] = df[1] + np.random.random(size=df.shape[0])\n",
    "df[\"y\"] = 3*df[0] + 2*df[1] + 4*df[2]\n",
    "df.head()\n",
    "X = df[[0, 1, 2]].values\n",
    "y = df[\"y\"].values\n",
    "l2_reg.fit(X, y)\n",
    "l2_reg.predict(X).shape"
   ]
  },
  {
   "cell_type": "code",
   "execution_count": 2,
   "id": "eaa1d262",
   "metadata": {},
   "outputs": [
    {
     "data": {
      "text/plain": [
       "(1000, 3)"
      ]
     },
     "execution_count": 2,
     "metadata": {},
     "output_type": "execute_result"
    }
   ],
   "source": [
    "X.shape"
   ]
  },
  {
   "cell_type": "code",
   "execution_count": null,
   "id": "b541c74e",
   "metadata": {},
   "outputs": [],
   "source": []
  }
 ],
 "metadata": {
  "kernelspec": {
   "display_name": "Python 3",
   "language": "python",
   "name": "python3"
  },
  "language_info": {
   "codemirror_mode": {
    "name": "ipython",
    "version": 3
   },
   "file_extension": ".py",
   "mimetype": "text/x-python",
   "name": "python",
   "nbconvert_exporter": "python",
   "pygments_lexer": "ipython3",
   "version": "3.9.5"
  }
 },
 "nbformat": 4,
 "nbformat_minor": 5
}
